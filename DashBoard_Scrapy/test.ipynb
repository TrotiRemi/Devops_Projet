{
 "cells": [
  {
   "cell_type": "code",
   "execution_count": 44,
   "metadata": {},
   "outputs": [
    {
     "name": "stdout",
     "output_type": "stream",
     "text": [
      "<class 'pandas.core.frame.DataFrame'>\n",
      "RangeIndex: 141204 entries, 0 to 141203\n",
      "Data columns (total 16 columns):\n",
      " #   Column            Non-Null Count   Dtype  \n",
      "---  ------            --------------   -----  \n",
      " 0   rank              141204 non-null  object \n",
      " 1   time              141204 non-null  object \n",
      " 2   athlete           141204 non-null  object \n",
      " 3   club              141204 non-null  object \n",
      " 4   category          141204 non-null  object \n",
      " 5   distance          141204 non-null  int64  \n",
      " 6   date              141204 non-null  object \n",
      " 7   competition_type  141204 non-null  object \n",
      " 8   competition_name  141204 non-null  object \n",
      " 9   location          141204 non-null  object \n",
      " 10  ligue             141193 non-null  object \n",
      " 11  department        141204 non-null  float64\n",
      " 12  type              71759 non-null   object \n",
      " 13  level             141204 non-null  object \n",
      " 14  Minute_Time       141204 non-null  float64\n",
      " 15  vitesse           140948 non-null  float64\n",
      "dtypes: float64(3), int64(1), object(12)\n",
      "memory usage: 17.2+ MB\n"
     ]
    }
   ],
   "source": [
    "import pandas as pd\n",
    "\n",
    "dt = pd.read_csv('unlimited_results.csv') \n",
    "df = pd.read_csv('concatenated_FFA.csv')\n",
    "dt['distance'] = dt['distance'].fillna(0).astype(int)\n",
    "dt.info()"
   ]
  },
  {
   "cell_type": "code",
   "execution_count": 15,
   "metadata": {},
   "outputs": [
    {
     "name": "stdout",
     "output_type": "stream",
     "text": [
      "<class 'pandas.core.frame.DataFrame'>\n",
      "RangeIndex: 293 entries, 0 to 292\n",
      "Data columns (total 9 columns):\n",
      " #   Column            Non-Null Count  Dtype  \n",
      "---  ------            --------------  -----  \n",
      " 0   results_url       293 non-null    object \n",
      " 1   competition_date  293 non-null    object \n",
      " 2   competition_type  293 non-null    object \n",
      " 3   competition_name  293 non-null    object \n",
      " 4   location          293 non-null    object \n",
      " 5   ligue             291 non-null    object \n",
      " 6   department        291 non-null    float64\n",
      " 7   type              203 non-null    object \n",
      " 8   level             293 non-null    object \n",
      "dtypes: float64(1), object(8)\n",
      "memory usage: 20.7+ KB\n"
     ]
    }
   ],
   "source": [
    "df.info()"
   ]
  },
  {
   "cell_type": "code",
   "execution_count": 45,
   "metadata": {},
   "outputs": [],
   "source": [
    "merged_df = pd.concat([dt, df], axis=0, ignore_index=True)\n",
    "\n",
    "# Étape 2 : Supprimer les doublons basés sur 'competition_name' et 'distance'\n",
    "merged_df = merged_df.drop_duplicates(subset=['competition_name', 'distance'])\n",
    "\n",
    "# Étape 3 : Compter le nombre de coureurs par 'competition_name'\n",
    "nombre_coureurs = dt.groupby('competition_name').size().reset_index(name='Nombre_Coureur')\n",
    "\n",
    "# Étape 4 : Grouper par 'competition_name' et concaténer les distances uniques\n",
    "aggregated_df = (\n",
    "    merged_df\n",
    "    .groupby('competition_name', as_index=False)\n",
    "    .agg({\n",
    "        'distance': lambda x: ', '.join(sorted(set(map(str, x.dropna())))),  # Exclure les NaN ici\n",
    "        **{col: 'first' for col in merged_df.columns if col not in ['competition_name', 'distance']}\n",
    "    })\n",
    ")\n",
    "\n",
    "# Étape 5 : Fusionner avec le nombre de coureurs et remplacer NaN par 0\n",
    "aggregated_df = pd.merge(aggregated_df, nombre_coureurs, on='competition_name', how='left')\n",
    "aggregated_df['Nombre_Coureur'] = aggregated_df['Nombre_Coureur'].fillna(0).astype(int)\n",
    "\n",
    "# Étape 6 : Supprimer les colonnes non désirées\n",
    "aggregated_df = aggregated_df.drop(columns=['club', 'athlete', 'time', 'rank', 'Minute_Time', 'vitesse',\n",
    "                                            'results_url', 'competition_date', 'category'])\n",
    "\n",
    "# Étape 7 : Sauvegarder le résultat dans un fichier CSV\n",
    "aggregated_df.to_csv('resultat_course.csv', index=False)"
   ]
  }
 ],
 "metadata": {
  "kernelspec": {
   "display_name": "DataEngineerTools-pNPMcD8e",
   "language": "python",
   "name": "python3"
  },
  "language_info": {
   "codemirror_mode": {
    "name": "ipython",
    "version": 3
   },
   "file_extension": ".py",
   "mimetype": "text/x-python",
   "name": "python",
   "nbconvert_exporter": "python",
   "pygments_lexer": "ipython3",
   "version": "3.12.6"
  }
 },
 "nbformat": 4,
 "nbformat_minor": 2
}
